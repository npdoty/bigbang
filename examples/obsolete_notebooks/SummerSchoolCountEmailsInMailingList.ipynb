{
 "cells": [
  {
   "cell_type": "markdown",
   "metadata": {},
   "source": [
    "<b>This notebook count mails in a list of mailing lists</b>"
   ]
  },
  {
   "cell_type": "code",
   "execution_count": 2,
   "metadata": {
    "collapsed": true
   },
   "outputs": [],
   "source": [
    "from bigbang.archive import load as load_archive"
   ]
  },
  {
   "cell_type": "code",
   "execution_count": 20,
   "metadata": {},
   "outputs": [],
   "source": [
    "#insert a list of the urls of downloaded mailing lists that you want to include in the analysis. \n",
    "urls = [\"http://mm.icann.org/pipermail/cc-humanrights/\",\n",
    "              \"http://mm.icann.org/pipermail/euro-board/\"]\n",
    "       #\"http://mm.icann.org/pipermail/wp4/\"]\n",
    "#       \"http://mm.icann.org/pipermail/wp1/\"]\n",
    "\n",
    "\n",
    "\n",
    "name_archive = {}\n",
    "arch_paths =[]\n",
    "try:\n",
    "    for url in urls:\n",
    "        arch_paths.append('../archives/'+url[:-1].replace('://','_/')+'.csv')\n",
    "    for arch_path in arch_paths:\n",
    "        name_archive[arch_path] = load_archive(arch_path)\n",
    "except:\n",
    "    for url in urls:\n",
    "        arch_paths.append('../archives/'+url[:-1].replace('//','/')+'.csv')\n",
    "    for arch_path in arch_paths:\n",
    "        name_archive[arch_path] = load_archive(arch_path)\n"
   ]
  },
  {
   "cell_type": "code",
   "execution_count": 25,
   "metadata": {},
   "outputs": [
    {
     "name": "stdout",
     "output_type": "stream",
     "text": [
      "Mailing list euro-board.csv contains 108 emails.\n",
      "Mailing list cc-humanrights.csv contains 708 emails.\n"
     ]
    }
   ],
   "source": [
    "for name, archive in name_archive.items():\n",
    "    print('Mailing list '+name.split('/')[-1]+' contains '+str(len(archive.data))+' emails.')"
   ]
  },
  {
   "cell_type": "code",
   "execution_count": null,
   "metadata": {
    "collapsed": true
   },
   "outputs": [],
   "source": []
  }
 ],
 "metadata": {
  "kernelspec": {
   "display_name": "Python 3",
   "language": "python",
   "name": "python3"
  },
  "language_info": {
   "codemirror_mode": {
    "name": "ipython",
    "version": 3
   },
   "file_extension": ".py",
   "mimetype": "text/x-python",
   "name": "python",
   "nbconvert_exporter": "python",
   "pygments_lexer": "ipython3"
  }
 },
 "nbformat": 4,
 "nbformat_minor": 1
}
