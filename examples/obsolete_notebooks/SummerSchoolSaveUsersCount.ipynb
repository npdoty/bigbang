{
 "cells": [
  {
   "cell_type": "markdown",
   "metadata": {},
   "source": [
    "This notebook exports a csv file with a list with all senders to the mailinglist, \n",
    "and the amount of emails they have sent to the list.\n",
    "\n",
    "The output of this notebook can be used as input into the SummerSchoolUsersTopWords notebook.\n"
   ]
  },
  {
   "cell_type": "code",
   "execution_count": 7,
   "metadata": {},
   "outputs": [],
   "source": [
    "from bigbang.archive import load as load_archive\n",
    "from collections import defaultdict\n",
    "import csv\n",
    "\n",
    "ml_name = '6lo/'\n",
    "\n",
    "stem = False\n",
    "\n",
    "try:\n",
    "    arch_path = '../archives/'+ml_name[:-1].replace('://','_/')+'.csv'\n",
    "    archive = load_archive(arch_path).data\n",
    "except:\n",
    "    arch_path = '../archives/'+ml_name[:-1].replace('//','/')+'.csv'\n",
    "    archive = load_archive(arch_path).data\n",
    "    \n",
    "    \n",
    "\n",
    "users = list(archive[\"From\"])\n",
    "users_count_f = open('../users_count.csv', \"wb\")\n",
    "users_count_w = csv.writer(users_count_f)\n",
    "for user in set(users):\n",
    "    users_count_w.writerow([user]+[list(archive[\"From\"]).count(user)])\n",
    "users_count_f.close()\n",
    "    \n",
    "    "
   ]
  },
  {
   "cell_type": "code",
   "execution_count": null,
   "metadata": {},
   "outputs": [],
   "source": []
  },
  {
   "cell_type": "code",
   "execution_count": null,
   "metadata": {
    "collapsed": true
   },
   "outputs": [],
   "source": []
  }
 ],
 "metadata": {
  "kernelspec": {
   "display_name": "Python 3",
   "language": "python",
   "name": "python3"
  },
  "language_info": {
   "codemirror_mode": {
    "name": "ipython",
    "version": 3
   },
   "file_extension": ".py",
   "mimetype": "text/x-python",
   "name": "python",
   "nbconvert_exporter": "python",
   "pygments_lexer": "ipython3"
  }
 },
 "nbformat": 4,
 "nbformat_minor": 1
}
