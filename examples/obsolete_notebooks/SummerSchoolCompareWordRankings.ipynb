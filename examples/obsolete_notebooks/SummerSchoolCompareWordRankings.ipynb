{
 "cells": [
  {
   "cell_type": "code",
   "execution_count": 12,
   "metadata": {},
   "outputs": [],
   "source": [
    "from bigbang.archive import Archive\n",
    "from bigbang.archive import load as load_archive\n",
    "import os\n",
    "import pandas as pd\n",
    "import numpy as np"
   ]
  },
  {
   "cell_type": "code",
   "execution_count": 13,
   "metadata": {
    "scrolled": false
   },
   "outputs": [],
   "source": [
    "\n",
    "ietf_path = \"../archives/\"\n",
    "ncuc_path = \"../archives/http:/lists.ncuc.org/pipermail\"\n",
    "\n",
    "paths = [os.path.join(ietf_path,\"6lo.csv\"),\n",
    "        os.path.join(ietf_path,\"5gangip.csv\")]\n",
    "\n",
    "archives = [load_archive(path) for path in paths]"
   ]
  },
  {
   "cell_type": "code",
   "execution_count": 14,
   "metadata": {},
   "outputs": [],
   "source": [
    "from sklearn.feature_extraction.text import CountVectorizer\n",
    "\n",
    "#tp = u'(?u)\\x08[^\\\\W\\\\d_][^\\\\W\\\\d_]+\\x08'\n",
    "\n",
    "tp = '(?u)\\\\b[^\\\\W\\\\d\\_]\\\\w+\\\\b'\n",
    "\n"
   ]
  },
  {
   "cell_type": "code",
   "execution_count": 15,
   "metadata": {},
   "outputs": [],
   "source": [
    "def ordered_words(data,authors=None):\n",
    "    \n",
    "    if authors is not None:\n",
    "        ## Filter to only those emails that include given authors\n",
    "        \n",
    "        ## a series of email IDs, valued True iff\n",
    "        ## one of the author names is in the From field\n",
    "        selected = data['From'].apply(lambda x: \n",
    "                                        any([(author in x)\n",
    "                                        for author\n",
    "                                        in authors]))\n",
    "    \n",
    "        # a series of Booleans can be used to select\n",
    "        # only certain rows from a DataFrame\n",
    "        data = data[selected]\n",
    "    \n",
    "    cv = CountVectorizer(max_df=.16,min_df=5,token_pattern=tp)\n",
    "    \n",
    "    c_dtm = cv.fit_transform(data['Body'].dropna())\n",
    "    \n",
    "    feature_names = cv.get_feature_names()\n",
    "    feature_counts = np.array(c_dtm.sum(axis=0))[0]\n",
    "    \n",
    "    feature_order = np.argsort(feature_counts)[::-1]\n",
    "    \n",
    "    sorted_features = [feature_names[i] for i in feature_order]\n",
    "    \n",
    "    rankings = pd.Series({pair[1] : pair[0] \n",
    "                          for pair \n",
    "                          in enumerate(sorted_features)})\n",
    "\n",
    "    counts = pd.Series({feature_names[i] : feature_counts[i] \n",
    "                        for i \n",
    "                        in feature_order})\n",
    "    \n",
    "    ## Returns a pair (a tuple of length 2)\n",
    "    return rankings,counts"
   ]
  },
  {
   "cell_type": "markdown",
   "metadata": {},
   "source": [
    "The line below creates a list of three pairs, each pair containing two [pandas.Series](http://pandas.pydata.org/pandas-docs/stable/generated/pandas.Series.html) objects.\n",
    "\n",
    "A Series is like a dictionary, only its items are ordered and its values must share a data type. The order keys of the series are its *index*. It is easy to compose Series objects into a DataFrame."
   ]
  },
  {
   "cell_type": "code",
   "execution_count": 16,
   "metadata": {},
   "outputs": [],
   "source": [
    "series = [ordered_words(archive.data) for archive in archives]"
   ]
  },
  {
   "cell_type": "markdown",
   "metadata": {},
   "source": [
    "This creates a DataFrame from each of the series.\n",
    "The columns alternate between representing word rankings and representing word counts."
   ]
  },
  {
   "cell_type": "code",
   "execution_count": 17,
   "metadata": {},
   "outputs": [
    {
     "ename": "IndexError",
     "evalue": "list index out of range",
     "output_type": "error",
     "traceback": [
      "\u001b[0;31m---------------------------------------------------------------------------\u001b[0m",
      "\u001b[0;31mIndexError\u001b[0m                                Traceback (most recent call last)",
      "\u001b[0;32m<ipython-input-17-4f44f4426481>\u001b[0m in \u001b[0;36m<module>\u001b[0;34m()\u001b[0m\n\u001b[1;32m      3\u001b[0m                       \u001b[0mseries\u001b[0m\u001b[0;34m[\u001b[0m\u001b[0;36m1\u001b[0m\u001b[0;34m]\u001b[0m\u001b[0;34m[\u001b[0m\u001b[0;36m0\u001b[0m\u001b[0;34m]\u001b[0m\u001b[0;34m,\u001b[0m\u001b[0;34m\u001b[0m\u001b[0m\n\u001b[1;32m      4\u001b[0m                       \u001b[0mseries\u001b[0m\u001b[0;34m[\u001b[0m\u001b[0;36m1\u001b[0m\u001b[0;34m]\u001b[0m\u001b[0;34m[\u001b[0m\u001b[0;36m1\u001b[0m\u001b[0;34m]\u001b[0m\u001b[0;34m,\u001b[0m\u001b[0;34m\u001b[0m\u001b[0m\n\u001b[0;32m----> 5\u001b[0;31m                       \u001b[0mseries\u001b[0m\u001b[0;34m[\u001b[0m\u001b[0;36m2\u001b[0m\u001b[0;34m]\u001b[0m\u001b[0;34m[\u001b[0m\u001b[0;36m0\u001b[0m\u001b[0;34m]\u001b[0m\u001b[0;34m,\u001b[0m\u001b[0;34m\u001b[0m\u001b[0m\n\u001b[0m\u001b[1;32m      6\u001b[0m                       series[2][1]],axis=1)\n",
      "\u001b[0;31mIndexError\u001b[0m: list index out of range"
     ]
    }
   ],
   "source": [
    "rankings = pd.concat([series[0][0],\n",
    "                      series[0][1],\n",
    "                      series[1][0],\n",
    "                      series[1][1],\n",
    "                      series[2][0],\n",
    "                      series[2][1]],axis=1)"
   ]
  },
  {
   "cell_type": "code",
   "execution_count": 11,
   "metadata": {
    "scrolled": true
   },
   "outputs": [
    {
     "ename": "NameError",
     "evalue": "name 'rankings' is not defined",
     "output_type": "error",
     "traceback": [
      "\u001b[0;31m---------------------------------------------------------------------------\u001b[0m",
      "\u001b[0;31mNameError\u001b[0m                                 Traceback (most recent call last)",
      "\u001b[0;32m<ipython-input-11-ae24c0150b69>\u001b[0m in \u001b[0;36m<module>\u001b[0;34m()\u001b[0m\n\u001b[1;32m      1\u001b[0m \u001b[0;31m# display the first 5 rows of the DataFrame\u001b[0m\u001b[0;34m\u001b[0m\u001b[0;34m\u001b[0m\u001b[0m\n\u001b[0;32m----> 2\u001b[0;31m \u001b[0mrankings\u001b[0m\u001b[0;34m[\u001b[0m\u001b[0;34m:\u001b[0m\u001b[0;36m5\u001b[0m\u001b[0;34m]\u001b[0m\u001b[0;34m\u001b[0m\u001b[0m\n\u001b[0m",
      "\u001b[0;31mNameError\u001b[0m: name 'rankings' is not defined"
     ]
    }
   ],
   "source": [
    "# display the first 5 rows of the DataFrame\n",
    "rankings[:5]"
   ]
  },
  {
   "cell_type": "markdown",
   "metadata": {},
   "source": [
    "We should rename the columns to be more descriptive of the data."
   ]
  },
  {
   "cell_type": "code",
   "execution_count": 8,
   "metadata": {},
   "outputs": [],
   "source": [
    "rankings.rename(columns={0: 'ipc-gnso rankings',\n",
    "                         1: 'ipc-gnso counts',\n",
    "                         2: 'wp4 rankings',\n",
    "                         3: 'wp4 counts',\n",
    "                         4: 'ncuc-discuss rankings',\n",
    "                         5: 'ncuc-discuss counts'},inplace=True)"
   ]
  },
  {
   "cell_type": "code",
   "execution_count": 9,
   "metadata": {},
   "outputs": [
    {
     "data": {
      "text/html": [
       "<div>\n",
       "<table border=\"1\" class=\"dataframe\">\n",
       "  <thead>\n",
       "    <tr style=\"text-align: right;\">\n",
       "      <th></th>\n",
       "      <th>ipc-gnso rankings</th>\n",
       "      <th>ipc-gnso counts</th>\n",
       "      <th>wp4 rankings</th>\n",
       "      <th>wp4 counts</th>\n",
       "      <th>ncuc-discuss rankings</th>\n",
       "      <th>ncuc-discuss counts</th>\n",
       "    </tr>\n",
       "  </thead>\n",
       "  <tbody>\n",
       "    <tr>\n",
       "      <th>a0</th>\n",
       "      <td>NaN</td>\n",
       "      <td>NaN</td>\n",
       "      <td>NaN</td>\n",
       "      <td>NaN</td>\n",
       "      <td>6824.0</td>\n",
       "      <td>64.0</td>\n",
       "    </tr>\n",
       "    <tr>\n",
       "      <th>a06</th>\n",
       "      <td>NaN</td>\n",
       "      <td>NaN</td>\n",
       "      <td>NaN</td>\n",
       "      <td>NaN</td>\n",
       "      <td>10433.0</td>\n",
       "      <td>28.0</td>\n",
       "    </tr>\n",
       "    <tr>\n",
       "      <th>a0f2</th>\n",
       "      <td>NaN</td>\n",
       "      <td>NaN</td>\n",
       "      <td>210.0</td>\n",
       "      <td>39.0</td>\n",
       "      <td>8964.0</td>\n",
       "      <td>38.0</td>\n",
       "    </tr>\n",
       "    <tr>\n",
       "      <th>a0ff16b3bef68c8657</th>\n",
       "      <td>NaN</td>\n",
       "      <td>NaN</td>\n",
       "      <td>NaN</td>\n",
       "      <td>NaN</td>\n",
       "      <td>21921.0</td>\n",
       "      <td>6.0</td>\n",
       "    </tr>\n",
       "    <tr>\n",
       "      <th>a17976</th>\n",
       "      <td>NaN</td>\n",
       "      <td>NaN</td>\n",
       "      <td>NaN</td>\n",
       "      <td>NaN</td>\n",
       "      <td>21918.0</td>\n",
       "      <td>6.0</td>\n",
       "    </tr>\n",
       "  </tbody>\n",
       "</table>\n",
       "</div>"
      ],
      "text/plain": [
       "                    ipc-gnso rankings  ipc-gnso counts  wp4 rankings  \\\n",
       "a0                                NaN              NaN           NaN   \n",
       "a06                               NaN              NaN           NaN   \n",
       "a0f2                              NaN              NaN         210.0   \n",
       "a0ff16b3bef68c8657                NaN              NaN           NaN   \n",
       "a17976                            NaN              NaN           NaN   \n",
       "\n",
       "                    wp4 counts  ncuc-discuss rankings  ncuc-discuss counts  \n",
       "a0                         NaN                 6824.0                 64.0  \n",
       "a06                        NaN                10433.0                 28.0  \n",
       "a0f2                      39.0                 8964.0                 38.0  \n",
       "a0ff16b3bef68c8657         NaN                21921.0                  6.0  \n",
       "a17976                     NaN                21918.0                  6.0  "
      ]
     },
     "execution_count": 9,
     "metadata": {},
     "output_type": "execute_result"
    }
   ],
   "source": [
    "rankings[:5]"
   ]
  },
  {
   "cell_type": "markdown",
   "metadata": {},
   "source": [
    "Use the [to_csv()](http://pandas.pydata.org/pandas-docs/stable/generated/pandas.DataFrame.to_csv.html) function on the DataFrame object to export the data to CSV format, which you can open easily in Excel."
   ]
  },
  {
   "cell_type": "code",
   "execution_count": 10,
   "metadata": {},
   "outputs": [],
   "source": [
    "rankings.to_csv(\"rankings_all.csv\",encoding=\"utf-8\")"
   ]
  },
  {
   "cell_type": "markdown",
   "metadata": {
    "collapsed": true
   },
   "source": [
    "To filter the data by certain authors before computing the word rankings, provide a list of author names as an argument.\n",
    "\n",
    "Only emails whose `From` header includes on of the author names within it will be included in the calculation.\n",
    "\n",
    "Note that for detecting the author name, the program for now uses simple string inclusion. You may need to try multiple variations of the authors' names in order to catch all emails written by persons of interest."
   ]
  },
  {
   "cell_type": "code",
   "execution_count": 11,
   "metadata": {},
   "outputs": [
    {
     "data": {
      "text/plain": [
       "(aaikman            43\n",
       " abandon          1077\n",
       " ability          1078\n",
       " able              502\n",
       " above             512\n",
       " absolve          1080\n",
       " abuhamad          334\n",
       " ac                724\n",
       " acceptable        766\n",
       " access            280\n",
       " accordance       1236\n",
       " account           784\n",
       " accountable       417\n",
       " accreditation     770\n",
       " acct              151\n",
       " acctcrosscomm    1090\n",
       " accuracy          450\n",
       " achieve           835\n",
       " across            310\n",
       " acs              1409\n",
       " act               353\n",
       " action            237\n",
       " actions           670\n",
       " active            492\n",
       " actively         1428\n",
       " activities        140\n",
       " activity          919\n",
       " actual            916\n",
       " add              1114\n",
       " addition          402\n",
       "                  ... \n",
       " whole            1465\n",
       " why               781\n",
       " widely           1360\n",
       " wiki              556\n",
       " willing          1093\n",
       " winston            11\n",
       " wish             1116\n",
       " without            14\n",
       " won               938\n",
       " wondering        1392\n",
       " words             480\n",
       " worked           1282\n",
       " world             317\n",
       " worldclock        514\n",
       " worried           438\n",
       " worst            1079\n",
       " writing          1397\n",
       " written           382\n",
       " wsis              126\n",
       " wsis10            748\n",
       " year              101\n",
       " years             194\n",
       " yes               332\n",
       " yesterday         404\n",
       " yet               832\n",
       " york              467\n",
       " zone              292\n",
       " zones            1447\n",
       " zuck             1469\n",
       " zzxya            1122\n",
       " dtype: int64, aaikman           83\n",
       " abandon            8\n",
       " ability            8\n",
       " able              19\n",
       " above             19\n",
       " absolve            8\n",
       " abuhamad          25\n",
       " ac                14\n",
       " acceptable        13\n",
       " access            29\n",
       " accordance         7\n",
       " account           12\n",
       " accountable       22\n",
       " accreditation     13\n",
       " acct              40\n",
       " acctcrosscomm      8\n",
       " accuracy          21\n",
       " achieve           12\n",
       " across            26\n",
       " acs                6\n",
       " act               25\n",
       " action            31\n",
       " actions           15\n",
       " active            19\n",
       " actively           5\n",
       " activities        43\n",
       " activity          10\n",
       " actual            10\n",
       " add                8\n",
       " addition          22\n",
       "                 ... \n",
       " whole              5\n",
       " why               13\n",
       " widely             6\n",
       " wiki              17\n",
       " willing            8\n",
       " winston          141\n",
       " wish               8\n",
       " without          132\n",
       " won               10\n",
       " wondering          6\n",
       " words             20\n",
       " worked             7\n",
       " world             26\n",
       " worldclock        19\n",
       " worried           21\n",
       " worst              8\n",
       " writing            6\n",
       " written           23\n",
       " wsis              47\n",
       " wsis10            13\n",
       " year              53\n",
       " years             36\n",
       " yes               26\n",
       " yesterday         22\n",
       " yet               12\n",
       " york              20\n",
       " zone              28\n",
       " zones              5\n",
       " zuck               5\n",
       " zzxya              8\n",
       " dtype: int64)"
      ]
     },
     "execution_count": 11,
     "metadata": {},
     "output_type": "execute_result"
    }
   ],
   "source": [
    "authors = [\"Greg Shatan\",\n",
    "           \"Niels ten Oever\"]\n",
    "\n",
    "ordered_words(archives[0].data, authors=authors)"
   ]
  },
  {
   "cell_type": "code",
   "execution_count": null,
   "metadata": {
    "collapsed": true
   },
   "outputs": [],
   "source": []
  }
 ],
 "metadata": {
  "kernelspec": {
   "display_name": "Python 3",
   "language": "python",
   "name": "python3"
  },
  "language_info": {
   "codemirror_mode": {
    "name": "ipython",
    "version": 3
   },
   "file_extension": ".py",
   "mimetype": "text/x-python",
   "name": "python",
   "nbconvert_exporter": "python",
   "pygments_lexer": "ipython3"
  }
 },
 "nbformat": 4,
 "nbformat_minor": 1
}
