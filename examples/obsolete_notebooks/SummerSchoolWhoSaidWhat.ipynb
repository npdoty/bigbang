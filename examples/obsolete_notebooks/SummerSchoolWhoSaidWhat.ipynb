{
 "cells": [
  {
   "cell_type": "code",
   "execution_count": null,
   "metadata": {},
   "outputs": [],
   "source": [
    "<b>This notebook compute and plot the senders that have talked more about something</b>\n",
    "\n",
    "What it does:\n",
    "    \n",
    "    -given a word / sentence, it scans emails in one ore more mailing lists and compute the list of user including that word or sentence in their emails\n",
    "    \n",
    "    -it plots the top folks using that word / sentence\n",
    "\n",
    "\n",
    "Parameters to set options:\n",
    "    \n",
    "    -insert one or more urls of mailing lists (mls are aggregated)\n",
    "    \n",
    "    -insert one word or a sentence that you want to check for\n",
    "\n"
   ]
  },
  {
   "cell_type": "code",
   "execution_count": null,
   "metadata": {
    "collapsed": true
   },
   "outputs": [],
   "source": [
    "%matplotlib inline"
   ]
  },
  {
   "cell_type": "code",
   "execution_count": 6,
   "metadata": {},
   "outputs": [],
   "source": [
    "import bigbang.mailman as mailman\n",
    "from bigbang.archive import load as load_archive\n",
    "from bigbang.parse import get_date\n",
    "from bigbang.archive import Archive\n",
    "import pandas as pd\n",
    "import datetime\n",
    "import matplotlib.pyplot as plt\n",
    "from collections import defaultdict\n",
    "import numpy as np\n",
    "import math\n",
    "import pytz\n",
    "import pickle\n",
    "import os\n",
    "pd.options.display.mpl_style = 'default'"
   ]
  },
  {
   "cell_type": "code",
   "execution_count": 9,
   "metadata": {},
   "outputs": [],
   "source": [
    "#insert one or more urls of the mailing lists you want to include in the analysis\n",
    "#(if more mailing lists are included, the data are aggregated and treated as a single object of analysis)\n",
    "\n",
    "urls = [\"6lo\", \n",
    "        \"5gang\", \n",
    "        \"http://mm.icann.org/pipermail/ge/\"]\n",
    "\n",
    "\n",
    "try:\n",
    "    arch_paths =[]\n",
    "    for url in urls:\n",
    "        arch_paths.append('../archives/'+url[:-1].replace('://','_/')+'.csv')\n",
    "    archives = [load_archive(arch_path).data for arch_path in arch_paths]\n",
    "except:\n",
    "    arch_paths =[]\n",
    "    for url in urls:\n",
    "        arch_paths.append('../archives/'+url[:-1].replace('//','/')+'.csv')\n",
    "    archives = [load_archive(arch_path).data for arch_path in arch_paths]\n",
    "mails = pd.concat(archives)"
   ]
  },
  {
   "cell_type": "code",
   "execution_count": 32,
   "metadata": {
    "collapsed": true
   },
   "outputs": [],
   "source": [
    "#insert a word or a sentence that you want to look up for\n",
    "\n",
    "sub_text = 'dio bono'"
   ]
  },
  {
   "cell_type": "code",
   "execution_count": 33,
   "metadata": {},
   "outputs": [],
   "source": [
    "#counting how many people wrote that\n",
    "\n",
    "people_count = defaultdict(int)\n",
    "for mail in mails.iterrows():\n",
    "    text = mail[1]['Body']\n",
    "    if sub_text in text:\n",
    "        people_count[mail[1]['From']] += 1\n",
    "\n"
   ]
  },
  {
   "cell_type": "code",
   "execution_count": 34,
   "metadata": {
    "collapsed": true
   },
   "outputs": [],
   "source": [
    "#insert how many top-people using that sentence you want to visualize\n",
    "\n",
    "top_people = 5"
   ]
  },
  {
   "cell_type": "code",
   "execution_count": 38,
   "metadata": {},
   "outputs": [
    {
     "name": "stdout",
     "output_type": "stream",
     "text": [
      "0 people are talking about \"dio bono\"\n"
     ]
    }
   ],
   "source": [
    "print(str(len(list(people_count.keys())))+' people are talking about \"'+sub_text+'\"')\n",
    "i = 0\n",
    "for people, count in sorted(iter(people_count.items()), reverse = True, key = lambda k_v: (k_v[1],k_v[0])):\n",
    "    print(people+'   '+str(count))\n",
    "    i+=1\n",
    "    if i == top_people: break\n"
   ]
  },
  {
   "cell_type": "code",
   "execution_count": null,
   "metadata": {
    "collapsed": true
   },
   "outputs": [],
   "source": []
  }
 ],
 "metadata": {
  "kernelspec": {
   "display_name": "Python 3",
   "language": "python",
   "name": "python3"
  },
  "language_info": {
   "codemirror_mode": {
    "name": "ipython",
    "version": 3
   },
   "file_extension": ".py",
   "mimetype": "text/x-python",
   "name": "python",
   "nbconvert_exporter": "python",
   "pygments_lexer": "ipython3"
  }
 },
 "nbformat": 4,
 "nbformat_minor": 1
}
