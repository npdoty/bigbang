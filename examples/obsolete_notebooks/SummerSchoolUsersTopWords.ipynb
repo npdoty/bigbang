{
 "cells": [
  {
   "cell_type": "code",
   "execution_count": null,
   "metadata": {},
   "outputs": [],
   "source": [
    "<b> This notebook takes a list of users and outputs the most recurring words per each user</b>"
   ]
  },
  {
   "cell_type": "code",
   "execution_count": 12,
   "metadata": {},
   "outputs": [],
   "source": [
    "from bigbang.archive import load as load_archive\n",
    "from nltk.corpus import stopwords\n",
    "from nltk import tokenize\n",
    "from collections import defaultdict\n",
    "import csv\n",
    "from pandas import DataFrame as df\n",
    "from nltk.stem.lancaster import LancasterStemmer\n",
    "import re\n",
    "st = LancasterStemmer()"
   ]
  },
  {
   "cell_type": "code",
   "execution_count": 13,
   "metadata": {},
   "outputs": [],
   "source": [
    "#insert ONE url of mailing list\n",
    "url = '6lo/'\n",
    "\n",
    "#specify if you want to have words stemmed (no prefixes, pluralrs, etc.) or literal \n",
    "stem = False\n",
    "\n",
    "\n",
    "try:\n",
    "    arch_path = '../archives/'+url[:-1].replace('://','_/')+'.csv'\n",
    "    archive = load_archive(arch_path).data\n",
    "except:\n",
    "    arch_path = '../archives/'+url[:-1].replace('//','/')+'.csv'\n",
    "    archive = load_archive(arch_path).data"
   ]
  },
  {
   "cell_type": "code",
   "execution_count": 14,
   "metadata": {},
   "outputs": [],
   "source": [
    "def count_words(texts):\n",
    "    wordcount={}\n",
    "    for text in texts:\n",
    "            w = text.replace(\"'\", \"\")\n",
    "            k = re.sub(r'[^\\w]', ' ', w)\n",
    "            t = tokenize.word_tokenize(k)\n",
    "            for g in t:\n",
    "                try:\n",
    "                    if stem: word = st.stem(g)\n",
    "                    else: word = g\n",
    "                except:\n",
    "                    print(g)\n",
    "                    pass\n",
    "                if word in stopwords.words('english'):\n",
    "                    continue\n",
    "                if word not in wordcount:\n",
    "                    wordcount[word] = [1]\n",
    "                else:\n",
    "                    wordcount[word][0] += 1\n",
    "    return wordcount"
   ]
  },
  {
   "cell_type": "code",
   "execution_count": 15,
   "metadata": {},
   "outputs": [
    {
     "ename": "AttributeError",
     "evalue": "'NoneType' object has no attribute 'replace'",
     "output_type": "error",
     "traceback": [
      "\u001b[0;31m---------------------------------------------------------------------------\u001b[0m",
      "\u001b[0;31mAttributeError\u001b[0m                            Traceback (most recent call last)",
      "\u001b[0;32m<ipython-input-15-22651a4b6679>\u001b[0m in \u001b[0;36m<module>\u001b[0;34m()\u001b[0m\n\u001b[1;32m      5\u001b[0m \u001b[0muser_wordcount\u001b[0m \u001b[0;34m=\u001b[0m \u001b[0mdefaultdict\u001b[0m\u001b[0;34m(\u001b[0m\u001b[0mdict\u001b[0m\u001b[0;34m)\u001b[0m\u001b[0;34m\u001b[0m\u001b[0m\n\u001b[1;32m      6\u001b[0m \u001b[0;32mfor\u001b[0m \u001b[0muser\u001b[0m \u001b[0;32min\u001b[0m \u001b[0musers_r\u001b[0m\u001b[0;34m:\u001b[0m\u001b[0;34m\u001b[0m\u001b[0m\n\u001b[0;32m----> 7\u001b[0;31m     \u001b[0muser_wordcount\u001b[0m\u001b[0;34m[\u001b[0m\u001b[0muser\u001b[0m\u001b[0;34m[\u001b[0m\u001b[0;36m0\u001b[0m\u001b[0;34m]\u001b[0m\u001b[0;34m]\u001b[0m\u001b[0;34m=\u001b[0m \u001b[0mcount_words\u001b[0m\u001b[0;34m(\u001b[0m\u001b[0marchive\u001b[0m\u001b[0;34m[\u001b[0m\u001b[0marchive\u001b[0m\u001b[0;34m[\u001b[0m\u001b[0;34m\"From\"\u001b[0m\u001b[0;34m]\u001b[0m \u001b[0;34m==\u001b[0m \u001b[0muser\u001b[0m\u001b[0;34m[\u001b[0m\u001b[0;36m0\u001b[0m\u001b[0;34m]\u001b[0m\u001b[0;34m]\u001b[0m\u001b[0;34m[\u001b[0m\u001b[0;34m\"Body\"\u001b[0m\u001b[0;34m]\u001b[0m\u001b[0;34m)\u001b[0m\u001b[0;34m\u001b[0m\u001b[0m\n\u001b[0m\u001b[1;32m      8\u001b[0m \u001b[0;34m\u001b[0m\u001b[0m\n\u001b[1;32m      9\u001b[0m \u001b[0;34m\u001b[0m\u001b[0m\n",
      "\u001b[0;32m<ipython-input-14-c5b5de9c35cc>\u001b[0m in \u001b[0;36mcount_words\u001b[0;34m(texts)\u001b[0m\n\u001b[1;32m      2\u001b[0m     \u001b[0mwordcount\u001b[0m\u001b[0;34m=\u001b[0m\u001b[0;34m{\u001b[0m\u001b[0;34m}\u001b[0m\u001b[0;34m\u001b[0m\u001b[0m\n\u001b[1;32m      3\u001b[0m     \u001b[0;32mfor\u001b[0m \u001b[0mtext\u001b[0m \u001b[0;32min\u001b[0m \u001b[0mtexts\u001b[0m\u001b[0;34m:\u001b[0m\u001b[0;34m\u001b[0m\u001b[0m\n\u001b[0;32m----> 4\u001b[0;31m             \u001b[0mw\u001b[0m \u001b[0;34m=\u001b[0m \u001b[0mtext\u001b[0m\u001b[0;34m.\u001b[0m\u001b[0mreplace\u001b[0m\u001b[0;34m(\u001b[0m\u001b[0;34m\"'\"\u001b[0m\u001b[0;34m,\u001b[0m \u001b[0;34m\"\"\u001b[0m\u001b[0;34m)\u001b[0m\u001b[0;34m\u001b[0m\u001b[0m\n\u001b[0m\u001b[1;32m      5\u001b[0m             \u001b[0mk\u001b[0m \u001b[0;34m=\u001b[0m \u001b[0mre\u001b[0m\u001b[0;34m.\u001b[0m\u001b[0msub\u001b[0m\u001b[0;34m(\u001b[0m\u001b[0;34mr'[^\\w]'\u001b[0m\u001b[0;34m,\u001b[0m \u001b[0;34m' '\u001b[0m\u001b[0;34m,\u001b[0m \u001b[0mw\u001b[0m\u001b[0;34m)\u001b[0m\u001b[0;34m\u001b[0m\u001b[0m\n\u001b[1;32m      6\u001b[0m             \u001b[0mt\u001b[0m \u001b[0;34m=\u001b[0m \u001b[0mtokenize\u001b[0m\u001b[0;34m.\u001b[0m\u001b[0mword_tokenize\u001b[0m\u001b[0;34m(\u001b[0m\u001b[0mk\u001b[0m\u001b[0;34m)\u001b[0m\u001b[0;34m\u001b[0m\u001b[0m\n",
      "\u001b[0;31mAttributeError\u001b[0m: 'NoneType' object has no attribute 'replace'"
     ]
    }
   ],
   "source": [
    "#insert the name of the file with users (should be in the bigbang directory)\n",
    "file_name = 'users_count.csv'\n",
    "users_f = open('../'+file_name, \"rb\")\n",
    "users_r = csv.reader(users_f, delimiter = ',')\n",
    "user_wordcount = defaultdict(dict)\n",
    "for user in users_r:\n",
    "    user_wordcount[user[0]]= count_words(archive[archive[\"From\"] == user[0]][\"Body\"])\n",
    "\n",
    "        \n",
    "    \n",
    "    \n",
    "\n"
   ]
  },
  {
   "cell_type": "code",
   "execution_count": null,
   "metadata": {},
   "outputs": [],
   "source": [
    "#insert the number of top words you want to export\n",
    "n_top_words = 10\n",
    "\n",
    "#edit the file name in case...\n",
    "users_topwords_f = open('../users_topwords.csv', \"wb\")\n",
    "users_w = csv.writer(users_topwords_f)\n",
    "\n",
    "\n",
    "for user, wordcount in user_wordcount.items():    \n",
    "    for word, count in sorted(iter(wordcount.items()), reverse = True, key = lambda k_v:(k_v[1],k_v[0]))[:n_top_words]:\n",
    "        users_w.writerow([user]+[word]+[count[0]])\n",
    "users_topwords_f.close()\n",
    "print('File exported!')"
   ]
  },
  {
   "cell_type": "code",
   "execution_count": null,
   "metadata": {
    "collapsed": true
   },
   "outputs": [],
   "source": []
  }
 ],
 "metadata": {
  "kernelspec": {
   "display_name": "Python 3",
   "language": "python",
   "name": "python3"
  },
  "language_info": {
   "codemirror_mode": {
    "name": "ipython",
    "version": 3
   },
   "file_extension": ".py",
   "mimetype": "text/x-python",
   "name": "python",
   "nbconvert_exporter": "python",
   "pygments_lexer": "ipython3"
  }
 },
 "nbformat": 4,
 "nbformat_minor": 1
}
