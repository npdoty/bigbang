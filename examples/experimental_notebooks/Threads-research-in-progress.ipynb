{
 "cells": [
  {
   "cell_type": "code",
   "execution_count": 2,
   "metadata": {
    "collapsed": false
   },
   "outputs": [],
   "source": [
    "%matplotlib inline\n",
    "from bigbang.archive import Archive\n",
    "from bigbang.thread import Thread\n",
    "from bigbang.thread import Node\n",
    "import matplotlib.pyplot as plt\n",
    "import datetime"
   ]
  },
  {
   "cell_type": "markdown",
   "metadata": {},
   "source": [
    "First, collect data from a public email archive."
   ]
  },
  {
   "cell_type": "code",
   "execution_count": 3,
   "metadata": {
    "collapsed": false
   },
   "outputs": [],
   "source": [
    "url = \"https://lists.wikimedia.org/pipermail/analytics/\"\n",
    "arx = Archive(url,archive_dir=\"../archives\")"
   ]
  },
  {
   "cell_type": "markdown",
   "metadata": {},
   "source": [
    "We can count the number of threads in the archive easily. The first time you run `Archive.get_thread` it may take some time to compute, but the result is cached in the Archive object."
   ]
  },
  {
   "cell_type": "code",
   "execution_count": 4,
   "metadata": {
    "collapsed": false
   },
   "outputs": [
    {
     "data": {
      "text/plain": [
       "628"
      ]
     },
     "execution_count": 4,
     "metadata": {},
     "output_type": "execute_result"
    }
   ],
   "source": [
    "#threads = arx.get_threads()\n",
    "len(arx.get_threads())"
   ]
  },
  {
   "cell_type": "markdown",
   "metadata": {},
   "source": [
    "We can plot a histogram of the number of messages in each thread. In most cases this will be a power law distribution."
   ]
  },
  {
   "cell_type": "code",
   "execution_count": 5,
   "metadata": {
    "collapsed": false
   },
   "outputs": [
    {
     "data": {
      "image/png": "[encoded data removed]",
      "text/plain": [
       "<matplotlib.figure.Figure at 0x7fb1b11e1e50>"
      ]
     },
     "metadata": {},
     "output_type": "display_data"
    }
   ],
   "source": [
    "y = [t.get_num_messages() for t in arx.get_threads()]\n",
    "\n",
    "plt.hist(y, bins=30)\n",
    "plt.xlabel('number of messages in a thread')\n",
    "plt.show()"
   ]
  },
  {
   "cell_type": "markdown",
   "metadata": {},
   "source": [
    "We can also plot the number of people participating in each thread. Here, the participants are differentiated by the *From:* header on the emails they've sent. "
   ]
  },
  {
   "cell_type": "code",
   "execution_count": 6,
   "metadata": {
    "collapsed": false
   },
   "outputs": [
    {
     "data": {
      "image/png": "[encoded data removed]",
      "text/plain": [
       "<matplotlib.figure.Figure at 0x7fb1b10a9950>"
      ]
     },
     "metadata": {},
     "output_type": "display_data"
    }
   ],
   "source": [
    "n = [t.get_num_people() for t in arx.get_threads()]\n",
    "\n",
    "plt.hist(n, bins = 20)\n",
    "plt.xlabel('number of email-address in a thread')\n",
    "plt.show()"
   ]
  },
  {
   "cell_type": "markdown",
   "metadata": {},
   "source": [
    "The *duration* of a thread is the amount of elapsed time between its first and last message. "
   ]
  },
  {
   "cell_type": "code",
   "execution_count": 7,
   "metadata": {
    "collapsed": false
   },
   "outputs": [
    {
     "data": {
      "image/png": "[encoded data removed]",
      "text/plain": [
       "<matplotlib.figure.Figure at 0x7fb1b0f15190>"
      ]
     },
     "metadata": {},
     "output_type": "display_data"
    }
   ],
   "source": [
    "y = [t.get_duration().days for t in arx.get_threads()]\n",
    "\n",
    "plt.hist(y, bins = (10))\n",
    "plt.xlabel('duration of a thread(days)')\n",
    "plt.show()"
   ]
  },
  {
   "cell_type": "code",
   "execution_count": 8,
   "metadata": {
    "collapsed": false
   },
   "outputs": [
    {
     "data": {
      "image/png": "[encoded data removed]",
      "text/plain": [
       "<matplotlib.figure.Figure at 0x7fb1b10c28d0>"
      ]
     },
     "metadata": {},
     "output_type": "display_data"
    }
   ],
   "source": [
    "y = [t.get_duration().seconds for t in arx.get_threads()]\n",
    "\n",
    "plt.hist(y, bins = (10))\n",
    "plt.xlabel('duration of a thread(seconds)')\n",
    "plt.show()"
   ]
  },
  {
   "cell_type": "markdown",
   "metadata": {},
   "source": [
    "You can examine the properties of a single thread."
   ]
  },
  {
   "cell_type": "code",
   "execution_count": 9,
   "metadata": {
    "collapsed": false
   },
   "outputs": [
    {
     "name": "stdout",
     "output_type": "stream",
     "text": [
      "19:49:47\n"
     ]
    }
   ],
   "source": [
    "print((arx.get_threads()[0].get_duration()))"
   ]
  },
  {
   "cell_type": "code",
   "execution_count": 21,
   "metadata": {
    "collapsed": false
   },
   "outputs": [],
   "source": [
    "threads = arx.get_threads"
   ]
  },
  {
   "cell_type": "code",
   "execution_count": 22,
   "metadata": {
    "collapsed": false
   },
   "outputs": [
    {
     "data": {
      "text/plain": [
       "'Welcome to the the inaugural Analytics Mailing list email.\\n\\nHere all your analytics wishes comes true, \\n\\n\\nso proposals, ideas, crazy ideas, crazy crazy ideas are welcome here!\\nas long as we can count something it is welcome. \\n\\n\\nD\\n\\n'"
      ]
     },
     "execution_count": 22,
     "metadata": {},
     "output_type": "execute_result"
    }
   ],
   "source": [
    "content = arx.get_threads()[0].get_root().data['Body']\n",
    "content"
   ]
  },
  {
   "cell_type": "code",
   "execution_count": 23,
   "metadata": {
    "collapsed": false
   },
   "outputs": [
    {
     "data": {
      "text/plain": [
       "38"
      ]
     },
     "execution_count": 23,
     "metadata": {},
     "output_type": "execute_result"
    }
   ],
   "source": [
    "len(content.split())"
   ]
  },
  {
   "cell_type": "markdown",
   "metadata": {},
   "source": [
    "Suppose we want to know whether or not longer threads (that contain more distinct messages) have more words."
   ]
  },
  {
   "cell_type": "code",
   "execution_count": 24,
   "metadata": {
    "collapsed": false
   },
   "outputs": [],
   "source": [
    "short_threads = []\n",
    "long_threads = []\n",
    "for t in arx.get_threads():\n",
    "    if(t.get_num_messages() < 6): short_threads.append(t)\n",
    "    else: long_threads.append(t)"
   ]
  },
  {
   "cell_type": "code",
   "execution_count": 25,
   "metadata": {
    "collapsed": false
   },
   "outputs": [
    {
     "name": "stdout",
     "output_type": "stream",
     "text": [
      "471\n",
      "157\n"
     ]
    }
   ],
   "source": [
    "print((len(short_threads)))\n",
    "print((len(long_threads)))"
   ]
  },
  {
   "cell_type": "code",
   "execution_count": 26,
   "metadata": {
    "collapsed": false
   },
   "outputs": [
    {
     "data": {
      "text/plain": [
       "13"
      ]
     },
     "execution_count": 26,
     "metadata": {},
     "output_type": "execute_result"
    }
   ],
   "source": [
    "len(long_threads[0].get_content())"
   ]
  },
  {
   "cell_type": "code",
   "execution_count": 27,
   "metadata": {
    "collapsed": false
   },
   "outputs": [],
   "source": [
    "dist_short = []\n",
    "dist_long = []\n",
    "for t in short_threads:\n",
    "    avg_short = sum([len(i.split()) for i in t.get_content()]) / len(t.get_content())\n",
    "    dist_short.append(avg_short)\n",
    "for t in long_threads:\n",
    "    avg_long = sum([len(i.split()) for i in t.get_content()]) / len(t.get_content())\n",
    "    dist_long.append(avg_long)"
   ]
  },
  {
   "cell_type": "code",
   "execution_count": 28,
   "metadata": {
    "collapsed": false
   },
   "outputs": [
    {
     "data": {
      "image/png": "[encoded data removed]",
      "text/plain": [
       "<matplotlib.figure.Figure at 0x7fb1b178ef50>"
      ]
     },
     "metadata": {},
     "output_type": "display_data"
    }
   ],
   "source": [
    "plt.hist(dist_short, bins = (15))\n",
    "plt.show()"
   ]
  },
  {
   "cell_type": "code",
   "execution_count": 29,
   "metadata": {
    "collapsed": false
   },
   "outputs": [
    {
     "data": {
      "image/png": "[encoded data removed]",
      "text/plain": [
       "<matplotlib.figure.Figure at 0x7fb1b0d31850>"
      ]
     },
     "metadata": {},
     "output_type": "display_data"
    }
   ],
   "source": [
    "plt.hist(dist_long, bins = (15))\n",
    "plt.show()"
   ]
  },
  {
   "cell_type": "code",
   "execution_count": 30,
   "metadata": {
    "collapsed": false
   },
   "outputs": [
    {
     "name": "stdout",
     "output_type": "stream",
     "text": [
      "140\n",
      "110\n"
     ]
    }
   ],
   "source": [
    "print((sum(dist_short)/ len(dist_short)))\n",
    "print((sum(dist_long)/ len(dist_long)))"
   ]
  },
  {
   "cell_type": "code",
   "execution_count": 31,
   "metadata": {
    "collapsed": false
   },
   "outputs": [
    {
     "ename": "TypeError",
     "evalue": "'instancemethod' object is not iterable",
     "output_type": "error",
     "traceback": [
      "\u001b[1;31m---------------------------------------------------------------------------\u001b[0m\n\u001b[1;31mTypeError\u001b[0m                                 Traceback (most recent call last)",
      "\u001b[1;32m<ipython-input-31-69067a14eb67>\u001b[0m in \u001b[0;36m<module>\u001b[1;34m()\u001b[0m\n\u001b[0;32m      2\u001b[0m \u001b[0ms_leaves\u001b[0m \u001b[1;33m=\u001b[0m \u001b[1;33m[\u001b[0m\u001b[1;33m]\u001b[0m\u001b[1;33m\u001b[0m\u001b[0m\n\u001b[0;32m      3\u001b[0m \u001b[0ms_notleaves\u001b[0m \u001b[1;33m=\u001b[0m \u001b[1;33m[\u001b[0m\u001b[1;33m]\u001b[0m\u001b[1;33m\u001b[0m\u001b[0m\n\u001b[1;32m----> 4\u001b[1;33m \u001b[1;32mfor\u001b[0m \u001b[0mt\u001b[0m \u001b[1;32min\u001b[0m \u001b[0mthreads\u001b[0m\u001b[1;33m:\u001b[0m\u001b[1;33m\u001b[0m\u001b[0m\n\u001b[0m\u001b[0;32m      5\u001b[0m     \u001b[1;32mfor\u001b[0m \u001b[0mnode\u001b[0m \u001b[1;32min\u001b[0m \u001b[0mt\u001b[0m\u001b[1;33m.\u001b[0m\u001b[0mget_leaves\u001b[0m\u001b[1;33m(\u001b[0m\u001b[1;33m)\u001b[0m\u001b[1;33m:\u001b[0m\u001b[1;33m\u001b[0m\u001b[0m\n\u001b[0;32m      6\u001b[0m         \u001b[0ms_leaves\u001b[0m\u001b[1;33m.\u001b[0m\u001b[0mappend\u001b[0m\u001b[1;33m(\u001b[0m\u001b[0mlen\u001b[0m\u001b[1;33m(\u001b[0m\u001b[0mnode\u001b[0m\u001b[1;33m.\u001b[0m\u001b[0mdata\u001b[0m\u001b[1;33m[\u001b[0m\u001b[1;34m'Body'\u001b[0m\u001b[1;33m]\u001b[0m\u001b[1;33m.\u001b[0m\u001b[0msplit\u001b[0m\u001b[1;33m(\u001b[0m\u001b[1;33m)\u001b[0m\u001b[1;33m)\u001b[0m\u001b[1;33m)\u001b[0m\u001b[1;33m\u001b[0m\u001b[0m\n",
      "\u001b[1;31mTypeError\u001b[0m: 'instancemethod' object is not iterable"
     ]
    }
   ],
   "source": [
    "%reload_ext autoreload\n",
    "s_leaves = []\n",
    "s_notleaves = []\n",
    "for t in threads:\n",
    "    for node in t.get_leaves():\n",
    "        s_leaves.append(len(node.data['Body'].split()))\n",
    "    for node in t.get_not_leaves():\n",
    "        s_notleaves.append(len(node.data['Body'].split()))"
   ]
  },
  {
   "cell_type": "code",
   "execution_count": 20,
   "metadata": {
    "collapsed": false
   },
   "outputs": [
    {
     "ename": "IndexError",
     "evalue": "list index out of range",
     "output_type": "error",
     "traceback": [
      "\u001b[1;31m---------------------------------------------------------------------------\u001b[0m\n\u001b[1;31mIndexError\u001b[0m                                Traceback (most recent call last)",
      "\u001b[1;32m<ipython-input-20-804337a1ae9d>\u001b[0m in \u001b[0;36m<module>\u001b[1;34m()\u001b[0m\n\u001b[1;32m----> 1\u001b[1;33m \u001b[0mplt\u001b[0m\u001b[1;33m.\u001b[0m\u001b[0mhist\u001b[0m\u001b[1;33m(\u001b[0m\u001b[0ms_leaves\u001b[0m\u001b[1;33m,\u001b[0m \u001b[0mbins\u001b[0m \u001b[1;33m=\u001b[0m \u001b[1;33m(\u001b[0m\u001b[1;36m15\u001b[0m\u001b[1;33m)\u001b[0m\u001b[1;33m)\u001b[0m\u001b[1;33m\u001b[0m\u001b[0m\n\u001b[0m\u001b[0;32m      2\u001b[0m \u001b[0mplt\u001b[0m\u001b[1;33m.\u001b[0m\u001b[0mshow\u001b[0m\u001b[1;33m(\u001b[0m\u001b[1;33m)\u001b[0m\u001b[1;33m\u001b[0m\u001b[0m\n",
      "\u001b[1;32m/home/sb/anaconda/envs/bigbang/lib/python2.7/site-packages/matplotlib/pyplot.pyc\u001b[0m in \u001b[0;36mhist\u001b[1;34m(x, bins, range, normed, weights, cumulative, bottom, histtype, align, orientation, rwidth, log, color, label, stacked, hold, **kwargs)\u001b[0m\n\u001b[0;32m   2825\u001b[0m                       \u001b[0mhisttype\u001b[0m\u001b[1;33m=\u001b[0m\u001b[0mhisttype\u001b[0m\u001b[1;33m,\u001b[0m \u001b[0malign\u001b[0m\u001b[1;33m=\u001b[0m\u001b[0malign\u001b[0m\u001b[1;33m,\u001b[0m \u001b[0morientation\u001b[0m\u001b[1;33m=\u001b[0m\u001b[0morientation\u001b[0m\u001b[1;33m,\u001b[0m\u001b[1;33m\u001b[0m\u001b[0m\n\u001b[0;32m   2826\u001b[0m                       \u001b[0mrwidth\u001b[0m\u001b[1;33m=\u001b[0m\u001b[0mrwidth\u001b[0m\u001b[1;33m,\u001b[0m \u001b[0mlog\u001b[0m\u001b[1;33m=\u001b[0m\u001b[0mlog\u001b[0m\u001b[1;33m,\u001b[0m \u001b[0mcolor\u001b[0m\u001b[1;33m=\u001b[0m\u001b[0mcolor\u001b[0m\u001b[1;33m,\u001b[0m \u001b[0mlabel\u001b[0m\u001b[1;33m=\u001b[0m\u001b[0mlabel\u001b[0m\u001b[1;33m,\u001b[0m\u001b[1;33m\u001b[0m\u001b[0m\n\u001b[1;32m-> 2827\u001b[1;33m                       stacked=stacked, **kwargs)\n\u001b[0m\u001b[0;32m   2828\u001b[0m         \u001b[0mdraw_if_interactive\u001b[0m\u001b[1;33m(\u001b[0m\u001b[1;33m)\u001b[0m\u001b[1;33m\u001b[0m\u001b[0m\n\u001b[0;32m   2829\u001b[0m     \u001b[1;32mfinally\u001b[0m\u001b[1;33m:\u001b[0m\u001b[1;33m\u001b[0m\u001b[0m\n",
      "\u001b[1;32m/home/sb/anaconda/envs/bigbang/lib/python2.7/site-packages/matplotlib/axes.pyc\u001b[0m in \u001b[0;36mhist\u001b[1;34m(self, x, bins, range, normed, weights, cumulative, bottom, histtype, align, orientation, rwidth, log, color, label, stacked, **kwargs)\u001b[0m\n\u001b[0;32m   8247\u001b[0m         \u001b[1;31m# Massage 'x' for processing.\u001b[0m\u001b[1;33m\u001b[0m\u001b[1;33m\u001b[0m\u001b[0m\n\u001b[0;32m   8248\u001b[0m         \u001b[1;31m# NOTE: Be sure any changes here is also done below to 'weights'\u001b[0m\u001b[1;33m\u001b[0m\u001b[1;33m\u001b[0m\u001b[0m\n\u001b[1;32m-> 8249\u001b[1;33m         \u001b[1;32mif\u001b[0m \u001b[0misinstance\u001b[0m\u001b[1;33m(\u001b[0m\u001b[0mx\u001b[0m\u001b[1;33m,\u001b[0m \u001b[0mnp\u001b[0m\u001b[1;33m.\u001b[0m\u001b[0mndarray\u001b[0m\u001b[1;33m)\u001b[0m \u001b[1;32mor\u001b[0m \u001b[1;32mnot\u001b[0m \u001b[0miterable\u001b[0m\u001b[1;33m(\u001b[0m\u001b[0mx\u001b[0m\u001b[1;33m[\u001b[0m\u001b[1;36m0\u001b[0m\u001b[1;33m]\u001b[0m\u001b[1;33m)\u001b[0m\u001b[1;33m:\u001b[0m\u001b[1;33m\u001b[0m\u001b[0m\n\u001b[0m\u001b[0;32m   8250\u001b[0m             \u001b[1;31m# TODO: support masked arrays;\u001b[0m\u001b[1;33m\u001b[0m\u001b[1;33m\u001b[0m\u001b[0m\n\u001b[0;32m   8251\u001b[0m             \u001b[0mx\u001b[0m \u001b[1;33m=\u001b[0m \u001b[0mnp\u001b[0m\u001b[1;33m.\u001b[0m\u001b[0masarray\u001b[0m\u001b[1;33m(\u001b[0m\u001b[0mx\u001b[0m\u001b[1;33m)\u001b[0m\u001b[1;33m\u001b[0m\u001b[0m\n",
      "\u001b[1;31mIndexError\u001b[0m: list index out of range"
     ]
    },
    {
     "data": {
      "image/png": "[encoded data removed]",
      "text/plain": [
       "<matplotlib.figure.Figure at 0x7fb1b0f3c550>"
      ]
     },
     "metadata": {},
     "output_type": "display_data"
    }
   ],
   "source": [
    "plt.hist(s_leaves, bins = (15))\n",
    "plt.show()"
   ]
  },
  {
   "cell_type": "code",
   "execution_count": 23,
   "metadata": {
    "collapsed": false
   },
   "outputs": [
    {
     "data": {
      "image/png": "[encoded data removed]",
      "text/plain": [
       "<matplotlib.figure.Figure at 0x10dbd5110>"
      ]
     },
     "metadata": {},
     "output_type": "display_data"
    }
   ],
   "source": [
    "plt.hist(s_notleaves, bins = (15))\n",
    "plt.show()"
   ]
  },
  {
   "cell_type": "code",
   "execution_count": 24,
   "metadata": {
    "collapsed": false
   },
   "outputs": [
    {
     "name": "stdout",
     "output_type": "stream",
     "text": [
      "264\n",
      "295\n"
     ]
    }
   ],
   "source": [
    "print((sum(s_leaves)/len(s_leaves)))\n",
    "print((sum(s_notleaves)/len(s_notleaves)))"
   ]
  },
  {
   "cell_type": "code",
   "execution_count": 25,
   "metadata": {
    "collapsed": false
   },
   "outputs": [],
   "source": [
    "import re\n",
    "mess = threads[85].get_leaves()[0].data['Body']"
   ]
  },
  {
   "cell_type": "code",
   "execution_count": 26,
   "metadata": {
    "collapsed": false
   },
   "outputs": [
    {
     "name": "stdout",
     "output_type": "stream",
     "text": [
      "Fernando Perez wrote:\n",
      "\n",
      ">\n",
      "> Great!  Many thanks for this.  Please give it a bit more pounding, and \n",
      "> I'd encourage other users of dreload to also try it out.  The code is \n",
      "> definitely far simpler than the original dreload, but since I don't \n",
      "> understand that code too well, I'd like to tiptoe a bit on this \n",
      "> issue.  If it survives a bit of pounding and discussion, I'll \n",
      "> definitely be glad to put it in.\n",
      "\n",
      "One of the things where it differ's from the old deep_reload is that \n",
      "when importing a submodule, say ipbug.vm, it will not reload \n",
      "ipbug/__init__.py. I've attached another version, which tries to do just \n",
      "that and I'm using that version currently without problems.\n",
      "However I think there must be an even  less complicated version.  \n",
      "Clearing sys.modules and 'reimporting' the module like in the following \n",
      "code seems to work ok.\n",
      "====\n",
      "import sys, bbutils.textproc.spellcheck\n",
      "m=sys.modules.copy()\n",
      "sys.modules.clear()\n",
      "sys.modules['sys'] = sys\n",
      "import bbutils.textproc.spellcheck\n",
      "====\n",
      "\n",
      "Currently I don't have the time to investigate this further, but in a \n",
      "week or two, I'll  have another look at this.\n",
      "\n",
      "- Ralf\n",
      "\n",
      "-------------- next part --------------\n",
      "import sys\n",
      "import __builtin__\n",
      "\n",
      "builtin_import = None   # will be set to __builtin__.__import__ by reload function\n",
      "old_modules = {}        # will be set to sys.modules by reload function\n",
      "reloaded = {}           # names of reloaded modules, uses same keys as sys.modules\n",
      "\n",
      "def determineParentName(globals):\n",
      "    \"\"\"determine name of the module which has called the import statement\"\"\"\n",
      "    if not globals or  not globals.has_key(\"__name__\"):\n",
      "        return None\n",
      "    pname = globals['__name__']\n",
      "    if globals.has_key(\"__path__\"):\n",
      "        return pname\n",
      "    if '.' in pname:\n",
      "        i = pname.rfind('.')\n",
      "        pname = pname[:i]\n",
      "        return pname\n",
      "    return None\n",
      "\n",
      "\n",
      "def reloadModuleAndParents(name, globals=None):\n",
      "    \"\"\"for name='some.module.bar', reload some, some.module, some.module.bar.\n",
      "    Determines module, which has called the import statement, and prefers\n",
      "    module relative paths, i.e. 'import os' in module m, from m/__init__.py\n",
      "    imports m/os.py if it's there.\n",
      "    \"\"\"\n",
      "    global reloaded\n",
      "\n",
      "    def reloadByName(n):\n",
      "        if old_modules.has_key(n):\n",
      "            if reloaded.has_key(n):\n",
      "                return reloaded[n]\n",
      "            \n",
      "            reloaded[mname]=1\n",
      "            sys.modules[mname] = old_modules[mname]\n",
      "\n",
      "            if mname != old_modules[mname].__name__:\n",
      "                # module changed it's name. otherwise dreload(xml.sax) fails.\n",
      "                print \"Module changed name:\", mname, old_modules[mname].__name__\n",
      "                return reloadModuleAndParents(old_modules[mname].__name__)\n",
      "            else:\n",
      "                print \"Reloading\", mname\n",
      "                return __builtin__.reload(old_modules[mname])\n",
      "\n",
      "        return None\n",
      "\n",
      "    mods = name.split(\".\")\n",
      "    parent = determineParentName(globals)\n",
      "\n",
      "    retval = None\n",
      "    for i in range(len(mods)):\n",
      "        mname = \".\".join(mods[:i+1])\n",
      "        if parent:\n",
      "            relative = \"%s.%s\" % (parent, mname)\n",
      "            if old_modules.has_key(relative) and old_modules[relative]:\n",
      "                retval=reloadModuleAndParents(relative)\n",
      "                continue\n",
      "        retval=reloadByName(mname)\n",
      "    return retval\n",
      "                \n",
      "def my_import_hook(name, globals=None, locals=None, fromlist=None):\n",
      "    \"\"\"replacement for __builtin__.__import__\n",
      "\n",
      "    reloads module 'name' if it hasn't been already reloaded\n",
      "    and then calls original __builtin__.__import__.\n",
      "    \"\"\"\n",
      "\n",
      "##     if fromlist:\n",
      "##         print 'Importing', fromlist, 'from module', name\n",
      "##     else:\n",
      "##         print 'Importing module', name\n",
      "    reloadModuleAndParents(name, globals)\n",
      "    return builtin_import(name, globals, locals, fromlist)\n",
      "\n",
      "\n",
      "\n",
      "# Replacement for reload()\n",
      "def reload(module, exclude=['sys', '__builtin__', '__main__']):\n",
      "    \"\"\"Recursively reload all modules used in the given module.  Optionally\n",
      "    takes a list of modules to exclude from reloading.  The default exclude\n",
      "    list contains sys, __main__, and __builtin__, to prevent, e.g., resetting \n",
      "    display, exception, and io hooks.\n",
      "    \"\"\"\n",
      "    global builtin_import\n",
      "    global old_modules\n",
      "    global reloaded\n",
      "\n",
      "    reloaded = {}\n",
      "    old_modules = sys.modules.copy()\n",
      "    sys.modules.clear()\n",
      "    for ex in exclude+list(sys.builtin_module_names):\n",
      "        if old_modules.has_key(ex) and not sys.modules.has_key(ex):\n",
      "            print \"EXCLUDING\", ex\n",
      "            sys.modules[ex] = old_modules[ex]\n",
      "            reloaded[ex]=1\n",
      "\n",
      "    builtin_import = __builtin__.__import__\n",
      "    __builtin__.__import__ = my_import_hook\n",
      "\n",
      "    try:\n",
      "        return reloadModuleAndParents(module.__name__)\n",
      "    finally:\n",
      "        # restore old values\n",
      "        __builtin__.__import__ = builtin_import\n",
      "        for m in old_modules:\n",
      "            if not sys.modules.has_key(m):\n",
      "                sys.modules[m] = old_modules[m]\n",
      "\n"
     ]
    }
   ],
   "source": [
    "print(mess)"
   ]
  },
  {
   "cell_type": "code",
   "execution_count": 27,
   "metadata": {
    "collapsed": false
   },
   "outputs": [],
   "source": [
    "mess.split('\\n')\n",
    "message = list()\n",
    "for l in mess.split('\\n'):\n",
    "    n = len(l)\n",
    "    if(len(l)!=0 and l[0] != '>' and l[n-6:n] != 'wrote:'):\n",
    "        message.append(l)\n",
    "new = str()\n",
    "for l in message:\n",
    "    new = new + l + '\\n'\n"
   ]
  },
  {
   "cell_type": "code",
   "execution_count": 28,
   "metadata": {
    "collapsed": false
   },
   "outputs": [
    {
     "name": "stdout",
     "output_type": "stream",
     "text": [
      "One of the things where it differ's from the old deep_reload is that \n",
      "when importing a submodule, say ipbug.vm, it will not reload \n",
      "ipbug/__init__.py. I've attached another version, which tries to do just \n",
      "that and I'm using that version currently without problems.\n",
      "However I think there must be an even  less complicated version.  \n",
      "Clearing sys.modules and 'reimporting' the module like in the following \n",
      "code seems to work ok.\n",
      "====\n",
      "import sys, bbutils.textproc.spellcheck\n",
      "m=sys.modules.copy()\n",
      "sys.modules.clear()\n",
      "sys.modules['sys'] = sys\n",
      "import bbutils.textproc.spellcheck\n",
      "====\n",
      "Currently I don't have the time to investigate this further, but in a \n",
      "week or two, I'll  have another look at this.\n",
      "- Ralf\n",
      "-------------- next part --------------\n",
      "import sys\n",
      "import __builtin__\n",
      "builtin_import = None   # will be set to __builtin__.__import__ by reload function\n",
      "old_modules = {}        # will be set to sys.modules by reload function\n",
      "reloaded = {}           # names of reloaded modules, uses same keys as sys.modules\n",
      "def determineParentName(globals):\n",
      "    \"\"\"determine name of the module which has called the import statement\"\"\"\n",
      "    if not globals or  not globals.has_key(\"__name__\"):\n",
      "        return None\n",
      "    pname = globals['__name__']\n",
      "    if globals.has_key(\"__path__\"):\n",
      "        return pname\n",
      "    if '.' in pname:\n",
      "        i = pname.rfind('.')\n",
      "        pname = pname[:i]\n",
      "        return pname\n",
      "    return None\n",
      "def reloadModuleAndParents(name, globals=None):\n",
      "    \"\"\"for name='some.module.bar', reload some, some.module, some.module.bar.\n",
      "    Determines module, which has called the import statement, and prefers\n",
      "    module relative paths, i.e. 'import os' in module m, from m/__init__.py\n",
      "    imports m/os.py if it's there.\n",
      "    \"\"\"\n",
      "    global reloaded\n",
      "    def reloadByName(n):\n",
      "        if old_modules.has_key(n):\n",
      "            if reloaded.has_key(n):\n",
      "                return reloaded[n]\n",
      "            \n",
      "            reloaded[mname]=1\n",
      "            sys.modules[mname] = old_modules[mname]\n",
      "            if mname != old_modules[mname].__name__:\n",
      "                # module changed it's name. otherwise dreload(xml.sax) fails.\n",
      "                print \"Module changed name:\", mname, old_modules[mname].__name__\n",
      "                return reloadModuleAndParents(old_modules[mname].__name__)\n",
      "            else:\n",
      "                print \"Reloading\", mname\n",
      "                return __builtin__.reload(old_modules[mname])\n",
      "        return None\n",
      "    mods = name.split(\".\")\n",
      "    parent = determineParentName(globals)\n",
      "    retval = None\n",
      "    for i in range(len(mods)):\n",
      "        mname = \".\".join(mods[:i+1])\n",
      "        if parent:\n",
      "            relative = \"%s.%s\" % (parent, mname)\n",
      "            if old_modules.has_key(relative) and old_modules[relative]:\n",
      "                retval=reloadModuleAndParents(relative)\n",
      "                continue\n",
      "        retval=reloadByName(mname)\n",
      "    return retval\n",
      "                \n",
      "def my_import_hook(name, globals=None, locals=None, fromlist=None):\n",
      "    \"\"\"replacement for __builtin__.__import__\n",
      "    reloads module 'name' if it hasn't been already reloaded\n",
      "    and then calls original __builtin__.__import__.\n",
      "    \"\"\"\n",
      "##     if fromlist:\n",
      "##         print 'Importing', fromlist, 'from module', name\n",
      "##     else:\n",
      "##         print 'Importing module', name\n",
      "    reloadModuleAndParents(name, globals)\n",
      "    return builtin_import(name, globals, locals, fromlist)\n",
      "# Replacement for reload()\n",
      "def reload(module, exclude=['sys', '__builtin__', '__main__']):\n",
      "    \"\"\"Recursively reload all modules used in the given module.  Optionally\n",
      "    takes a list of modules to exclude from reloading.  The default exclude\n",
      "    list contains sys, __main__, and __builtin__, to prevent, e.g., resetting \n",
      "    display, exception, and io hooks.\n",
      "    \"\"\"\n",
      "    global builtin_import\n",
      "    global old_modules\n",
      "    global reloaded\n",
      "    reloaded = {}\n",
      "    old_modules = sys.modules.copy()\n",
      "    sys.modules.clear()\n",
      "    for ex in exclude+list(sys.builtin_module_names):\n",
      "        if old_modules.has_key(ex) and not sys.modules.has_key(ex):\n",
      "            print \"EXCLUDING\", ex\n",
      "            sys.modules[ex] = old_modules[ex]\n",
      "            reloaded[ex]=1\n",
      "    builtin_import = __builtin__.__import__\n",
      "    __builtin__.__import__ = my_import_hook\n",
      "    try:\n",
      "        return reloadModuleAndParents(module.__name__)\n",
      "    finally:\n",
      "        # restore old values\n",
      "        __builtin__.__import__ = builtin_import\n",
      "        for m in old_modules:\n",
      "            if not sys.modules.has_key(m):\n",
      "                sys.modules[m] = old_modules[m]\n",
      "\n"
     ]
    }
   ],
   "source": [
    "print(new)"
   ]
  },
  {
   "cell_type": "code",
   "execution_count": 29,
   "metadata": {
    "collapsed": false
   },
   "outputs": [
    {
     "ename": "NameError",
     "evalue": "name 'EmailReplyParser' is not defined",
     "output_type": "error",
     "traceback": [
      "\u001b[0;31m---------------------------------------------------------------------------\u001b[0m\n\u001b[0;31mNameError\u001b[0m                                 Traceback (most recent call last)",
      "\u001b[0;32m<ipython-input-29-671024fec275>\u001b[0m in \u001b[0;36m<module>\u001b[0;34m()\u001b[0m\n\u001b[0;32m----> 1\u001b[0;31m \u001b[0;32mprint\u001b[0m\u001b[0;34m(\u001b[0m\u001b[0mEmailReplyParser\u001b[0m\u001b[0;34m.\u001b[0m\u001b[0mparse_reply\u001b[0m\u001b[0;34m(\u001b[0m\u001b[0mmess\u001b[0m\u001b[0;34m)\u001b[0m\u001b[0;34m)\u001b[0m\u001b[0;34m\u001b[0m\u001b[0m\n\u001b[0m",
      "\u001b[0;31mNameError\u001b[0m: name 'EmailReplyParser' is not defined"
     ]
    }
   ],
   "source": [
    "print((EmailReplyParser.parse_reply(mess)))"
   ]
  },
  {
   "cell_type": "code",
   "execution_count": null,
   "metadata": {
    "collapsed": false
   },
   "outputs": [],
   "source": [
    "print(mess)"
   ]
  },
  {
   "cell_type": "code",
   "execution_count": null,
   "metadata": {
    "collapsed": false
   },
   "outputs": [],
   "source": [
    "threads[85].get_leaves()[0].data"
   ]
  }
 ],
 "metadata": {
  "kernelspec": {
   "display_name": "Python 3",
   "language": "python",
   "name": "python3"
  },
  "language_info": {
   "codemirror_mode": {
    "name": "ipython",
    "version": 3
   },
   "file_extension": ".py",
   "mimetype": "text/x-python",
   "name": "python",
   "nbconvert_exporter": "python",
   "pygments_lexer": "ipython3"
  }
 },
 "nbformat": 4,
 "nbformat_minor": 0
}
