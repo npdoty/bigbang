{
 "cells": [
  {
   "cell_type": "code",
   "execution_count": 1,
   "metadata": {},
   "outputs": [],
   "source": [
    "from bigbang.archive import Archive\n",
    "from bigbang.archive import load as load_archive\n",
    "import pandas as pd\n",
    "import datetime\n",
    "import pytz\n",
    "from bigbang.thread import Thread\n",
    "from bigbang.thread import Node\n",
    "from collections import defaultdict"
   ]
  },
  {
   "cell_type": "code",
   "execution_count": 2,
   "metadata": {},
   "outputs": [],
   "source": [
    "#load  archives data\n",
    "\n",
    "archives_names = [\"hrpc\"]\n",
    "\n",
    "archives_paths = list()\n",
    "for archive_name in archives_names:\n",
    "    archives_paths.append('../../archives/'+archive_name+'.csv')\n",
    "\n",
    "archives_list = [load_archive(archive_path).data for archive_path in archives_paths]\n",
    "    \n",
    "archives = Archive(pd.concat(archives_list))\n",
    "\n",
    "archives_data = archives.resolve_entities() #this should also merge very similar email addresses; if you wanna drop this function, replace .resolve_entities() with .data\n"
   ]
  },
  {
   "cell_type": "code",
   "execution_count": 3,
   "metadata": {},
   "outputs": [],
   "source": [
    "#here you can set the time frame \n",
    "\n",
    "date_from = pd.datetime(1997,11,1,tzinfo=pytz.utc)\n",
    "date_to = pd.datetime(2018,3,3,tzinfo=pytz.utc)\n",
    "def filter_by_date(df,d_from,d_to):\n",
    "    return df[(df['Date'] > d_from) & (df['Date'] < d_to)]\n",
    "\n",
    "#if you use archives_data_filtered, it will be filtered by date\n",
    "archives_data_filtered = filter_by_date(archives_data, date_from, date_to)"
   ]
  },
  {
   "cell_type": "code",
   "execution_count": 4,
   "metadata": {},
   "outputs": [
    {
     "name": "stdout",
     "output_type": "stream",
     "text": [
      "From\n",
      "Joseph Lorenzo Hall <joe@cdt.org>               54.0\n",
      "avri doria <avri@acm.org>                       77.0\n",
      "Stephen Farrell <stephen.farrell@cs.tcd.ie>     83.0\n",
      "Stephane Bortzmeyer <bortzmeyer@nic.fr>        134.0\n",
      "Niels ten Oever <niels@article19.org>          347.0\n",
      "dtype: float64\n"
     ]
    }
   ],
   "source": [
    "#Q1: Top senders over time period\n",
    "\n",
    "#set how many top senders to display\n",
    "n_top_senders = 5 \n",
    "\n",
    "\n",
    "activity = Archive(archives_data_filtered).get_activity()\n",
    "tot_activity = activity.sum(0).sort_values()\n",
    "\n",
    "print(tot_activity[-n_top_senders:])"
   ]
  },
  {
   "cell_type": "code",
   "execution_count": 5,
   "metadata": {},
   "outputs": [
    {
     "name": "stdout",
     "output_type": "stream",
     "text": [
      "1309\n"
     ]
    }
   ],
   "source": [
    "#Q3: Number of emails in a time frame\n",
    "\n",
    "print(len(archives_data_filtered)) #set the time frame in the cell above\n",
    "\n",
    "\n"
   ]
  },
  {
   "cell_type": "code",
   "execution_count": 6,
   "metadata": {},
   "outputs": [
    {
     "name": "stdout",
     "output_type": "stream",
     "text": [
      "2014:\n",
      "From\n",
      "Ludo <ludo@greenhost.nl>                    1.0\n",
      "Stephane Bortzmeyer <bortzmeyer@nic.fr>     1.0\n",
      "avri doria <avri@acm.org>                   1.0\n",
      "Niels ten Oever <mail@nielstenoever.net>    2.0\n",
      "Niels ten Oever <niels@article19.org>       2.0\n",
      "dtype: float64\n",
      "______________________\n",
      "2015:\n",
      "From\n",
      "Joseph Lorenzo Hall <joe@cdt.org>          16.0\n",
      "avri doria <avri@acm.org>                  20.0\n",
      "Corinne Cath <cattekwaad@gmail.com>        22.0\n",
      "Stephane Bortzmeyer <bortzmeyer@nic.fr>    29.0\n",
      "Niels ten Oever <niels@article19.org>      99.0\n",
      "dtype: float64\n",
      "______________________\n",
      "2016:\n",
      "From\n",
      "Stephane Bortzmeyer <bortzmeyer@nic.fr>         31.0\n",
      "Joseph Lorenzo Hall <joe@cdt.org>               33.0\n",
      "John Curran <jcurran@istaff.org>                37.0\n",
      "Stephen Farrell <stephen.farrell@cs.tcd.ie>     43.0\n",
      "Niels ten Oever <niels@article19.org>          124.0\n",
      "dtype: float64\n",
      "______________________\n",
      "2017:\n",
      "From\n",
      "Eliot Lear <lear@cisco.com>                     16.0\n",
      "Andrew Sullivan <ajs@anvilwalrusden.com>        17.0\n",
      "Stephen Farrell <stephen.farrell@cs.tcd.ie>     28.0\n",
      "Stephane Bortzmeyer <bortzmeyer@nic.fr>         45.0\n",
      "Niels ten Oever <niels@article19.org>          104.0\n",
      "dtype: float64\n",
      "______________________\n"
     ]
    }
   ],
   "source": [
    "#Q4: I would be interested for instance in the average number of emails per user, across multiple years.\n",
    "\n",
    "def filter_by_date(df,d_from,d_to):\n",
    "    return df[(df['Date'] > d_from) & (df['Date'] < d_to)]\n",
    "\n",
    "n_top_senders = 5 \n",
    "\n",
    "for year in range(archives_data[\"Date\"].min().year, archives_data[\"Date\"].max().year):\n",
    "    archives_data_filtered = filter_by_date(archives_data, pd.datetime(year,1,1,tzinfo=pytz.utc),pd.datetime(year,12,31,tzinfo=pytz.utc))\n",
    "    if len(archives_data_filtered) > 0:\n",
    "        print(str(year)+':')\n",
    "        activity = Archive(archives_data_filtered).get_activity()\n",
    "        tot_activity = activity.sum(0).sort_values()\n",
    "        print(tot_activity[-n_top_senders:])\n",
    "        print('______________________')\n",
    "    \n",
    "    \n",
    "\n"
   ]
  },
  {
   "cell_type": "code",
   "execution_count": 7,
   "metadata": {},
   "outputs": [
    {
     "name": "stdout",
     "output_type": "stream",
     "text": [
      "2014:11\n",
      "2015:297\n",
      "2016:478\n",
      "2017:372\n"
     ]
    }
   ],
   "source": [
    "#Q4b I would also be interested to know, when I know what the peak number of emails\n",
    "#is across a year, how many emails were sent to the list per month, across multiple numbers of years. \n",
    "\n",
    "#here you can take a look at the number of emails per year\n",
    "\n",
    "def filter_by_date(df,d_from,d_to):\n",
    "    return df[(df['Date'] > d_from) & (df['Date'] < d_to)]\n",
    "\n",
    "activity = Archive(archives_data).get_activity()\n",
    "\n",
    "for year in range(archives_data[\"Date\"].min().year, archives_data[\"Date\"].max().year):\n",
    "    archives_data_filtered = filter_by_date(archives_data, pd.datetime(year,1,1,tzinfo=pytz.utc),pd.datetime(year,12,31,tzinfo=pytz.utc))\n",
    "    print(str(year)+':'+str(len(archives_data_filtered)))\n",
    "    "
   ]
  },
  {
   "cell_type": "code",
   "execution_count": 8,
   "metadata": {},
   "outputs": [
    {
     "name": "stdout",
     "output_type": "stream",
     "text": [
      "2003:  tot 0\n",
      "    1:   0\n",
      "    2:   0\n",
      "    3:   0\n",
      "    4:   0\n",
      "    5:   0\n",
      "    6:   0\n",
      "    7:   0\n",
      "    8:   0\n",
      "    9:   0\n",
      "    10:   0\n",
      "    11:   0\n",
      "    12:   0\n",
      "____________________\n",
      "2009:  tot 0\n",
      "    1:   0\n",
      "    2:   0\n",
      "    3:   0\n",
      "    4:   0\n",
      "    5:   0\n",
      "    6:   0\n",
      "    7:   0\n",
      "    8:   0\n",
      "    9:   0\n",
      "    10:   0\n",
      "    11:   0\n",
      "    12:   0\n",
      "____________________\n"
     ]
    }
   ],
   "source": [
    "   \n",
    "#then you can specify some years and have the break down per month\n",
    "\n",
    "def filter_by_date(df,d_from,d_to):\n",
    "    return df[(df['Date'] > d_from) & (df['Date'] < d_to)]\n",
    "\n",
    "years = [2003, 2009]\n",
    "\n",
    "for year in years:\n",
    "    archives_data_filtered = filter_by_date(archives_data, pd.datetime(year,1,1,tzinfo=pytz.utc),pd.datetime(year,12,31,tzinfo=pytz.utc))\n",
    "    print(str(year)+':  tot '+str(len(archives_data_filtered)))\n",
    "    for month in range(1,13):\n",
    "        if month in (1,3,5,7,8,10,12): archives_data_filtered = filter_by_date(archives_data, pd.datetime(year,month,1,tzinfo=pytz.utc),pd.datetime(year,month,31,tzinfo=pytz.utc))\n",
    "        elif month in (4,6,9,11): archives_data_filtered = filter_by_date(archives_data, pd.datetime(year,month,1,tzinfo=pytz.utc),pd.datetime(year,month,30,tzinfo=pytz.utc))\n",
    "        else: archives_data_filtered = filter_by_date(archives_data, pd.datetime(year,month,1,tzinfo=pytz.utc),pd.datetime(year,month,28,tzinfo=pytz.utc))     \n",
    "        print('    '+str(month)+':   '+str(len(archives_data_filtered)))\n",
    "    print('____________________')"
   ]
  },
  {
   "cell_type": "code",
   "execution_count": 9,
   "metadata": {},
   "outputs": [
    {
     "name": "stdout",
     "output_type": "stream",
     "text": [
      "[hrpc] Examining existing Venue Selection criteria   71\n",
      "[hrpc] Case three: DDoS   55\n",
      "[hrpc] Human Rights Research Group Call on draft-irtf-hrpc-research-07   53\n",
      "Re: [hrpc] draft-tenoever-hrpc-research-02   32\n",
      "[hrpc] Comments about draft-irtf-hrpc-research-07   26\n"
     ]
    }
   ],
   "source": [
    "#Q5 get threads with most replies\n",
    "\n",
    "\n",
    "#set the number of top threads (-1 for all)\n",
    "n_top_threads = 5\n",
    "\n",
    "threads_length = defaultdict(int)\n",
    "for t in archives.get_threads():\n",
    "    try: threads_length[t.get_root().get_data()[\"Subject\"]] = t.get_num_messages()\n",
    "    except: pass\n",
    "\n",
    "for t,n in sorted(iter(threads_length.items()), reverse = True, key= lambda k_v:(k_v[1],k_v[0]))[:n_top_threads]:\n",
    "    print(t+'   '+str(n))\n",
    "\n",
    "\n"
   ]
  },
  {
   "cell_type": "code",
   "execution_count": null,
   "metadata": {},
   "outputs": [],
   "source": []
  },
  {
   "cell_type": "code",
   "execution_count": null,
   "metadata": {},
   "outputs": [],
   "source": []
  },
  {
   "cell_type": "code",
   "execution_count": null,
   "metadata": {},
   "outputs": [],
   "source": []
  },
  {
   "cell_type": "code",
   "execution_count": null,
   "metadata": {},
   "outputs": [],
   "source": []
  }
 ],
 "metadata": {
  "kernelspec": {
   "display_name": "Python 3",
   "language": "python",
   "name": "python3"
  },
  "language_info": {
   "codemirror_mode": {
    "name": "ipython",
    "version": 3
   },
   "file_extension": ".py",
   "mimetype": "text/x-python",
   "name": "python",
   "nbconvert_exporter": "python",
   "pygments_lexer": "ipython3"
  }
 },
 "nbformat": 4,
 "nbformat_minor": 2
}
